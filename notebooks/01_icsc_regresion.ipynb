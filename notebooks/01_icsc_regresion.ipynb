{
 "cells": [
  {
   "cell_type": "markdown",
   "metadata": {},
   "source": [
    "# Python para el análisis de datos\n",
    "## Introducción a las Ciencias Sociales Computacionales\n",
    "## Facultad de Ciencias Sociales, Universidad de Buenos Aires, 2023\n",
    "### Juan Manuel Pérez y Rodolfo Elbert\n",
    "\n",
    "En esta notebook vamos a analizar datos de las últimas PASO (Agosto 2023), obtenidos del [Observatorio de La Izquierda Diario](https://observatorio.laizquierdadiario.com/consultas). \n",
    "\n",
    "\n",
    "Inspirado un poco en este análisis de [\"Los Mitos del votante de Milei\"](https://medium.com/@VoteBetta/los-mitos-del-votante-de-milei-ae497168535) -- de otro docente de la casa.\n",
    "\n",
    "\n",
    "## Datos tabulares\n",
    "\n",
    "En primer lugar, vamos a usar la librería `pandas` para leer los datos de un archivo `csv` y mostrarlos en pantalla.\n",
    "\n",
    "[pandas](https://pandas.pydata.org/) es una librería de Python para el análisis de datos. En particular, nos permite trabajar con datos tabulares (filas y columnas) de manera muy eficiente y fácil, del estilo de las tablas de Excel. Para quienes tengan experiencia en R, `pandas` es el equivalente a los DataFrame\n",
    "\n",
    "Un `csv` (comma separated values) es un archivo de texto plano que contiene datos separados por comas. Es un formato muy común para guardar datos tabulares (similar al .xlsx)"
   ]
  },
  {
   "cell_type": "code",
   "execution_count": null,
   "metadata": {},
   "outputs": [],
   "source": [
    "!pip install seaborn pandas statsmodels"
   ]
  },
  {
   "cell_type": "code",
   "execution_count": null,
   "metadata": {},
   "outputs": [],
   "source": [
    "import pandas as pd\n",
    "\n",
    "df = pd.read_csv('../data/pba_paso_2023.csv')"
   ]
  },
  {
   "cell_type": "markdown",
   "metadata": {},
   "source": [
    "Vamos a ver algunos elementos de esta tabla."
   ]
  },
  {
   "cell_type": "code",
   "execution_count": null,
   "metadata": {},
   "outputs": [],
   "source": [
    "\n",
    "df.head(20)"
   ]
  },
  {
   "cell_type": "markdown",
   "metadata": {},
   "source": [
    "¿Qué columnas tiene? ¿Cuántas filas? ¿Qué tipo de datos tiene cada columna?\n",
    "\n"
   ]
  },
  {
   "cell_type": "code",
   "execution_count": null,
   "metadata": {},
   "outputs": [],
   "source": [
    "df.info()"
   ]
  },
  {
   "cell_type": "markdown",
   "metadata": {},
   "source": [
    "¿Cómo vemos qué valores tiene una columna en particular? ¿Y una fila? ¿Qué valores únicos tiene una columna?\n",
    "\n",
    "Vamos a preguntarle todo esto a ChatGPT.\n",
    "\n"
   ]
  },
  {
   "cell_type": "code",
   "execution_count": null,
   "metadata": {},
   "outputs": [],
   "source": [
    "# Preguntar a ChatGPT\n",
    "\n",
    "df[\"nom_seccion\"]"
   ]
  },
  {
   "cell_type": "code",
   "execution_count": null,
   "metadata": {},
   "outputs": [],
   "source": [
    "df[\"nom_seccion\"].value_counts()"
   ]
  },
  {
   "cell_type": "markdown",
   "metadata": {},
   "source": [
    "Obtener la primer fila"
   ]
  },
  {
   "cell_type": "markdown",
   "metadata": {},
   "source": [
    "Obtener todas las filas de La Matanza"
   ]
  },
  {
   "cell_type": "markdown",
   "metadata": {},
   "source": [
    "Obtener todos los votos positivos o blancos"
   ]
  },
  {
   "cell_type": "markdown",
   "metadata": {},
   "source": [
    "Obtener todos los votos positivos o blancos de la siguiente sección"
   ]
  },
  {
   "cell_type": "markdown",
   "metadata": {},
   "source": []
  },
  {
   "cell_type": "code",
   "execution_count": null,
   "metadata": {
    "tags": [
     "hide_input"
    ]
   },
   "outputs": [],
   "source": [
    "seccion = [\n",
    "    \"La Matanza\",\n",
    "    \"La Plata\",\n",
    "    \"Lomas de Zamora\",\n",
    "    \"Merlo\",\n",
    "    \"Lanús\",\n",
    "    \"Moreno\",\n",
    "    \"Morón\",\n",
    "    \"Luján\",\n",
    "    \"Marcos Paz\",\n",
    "]\n",
    "\n",
    "df = df[df[\"nom_seccion\"].isin(seccion)]\n",
    "df = df[(df[\"nom_tipo_voto\"] == \"positivo\") | (df[\"nom_tipo_voto\"] == \"blancos\")]\n"
   ]
  },
  {
   "cell_type": "code",
   "execution_count": null,
   "metadata": {},
   "outputs": [],
   "source": [
    "df"
   ]
  },
  {
   "cell_type": "code",
   "execution_count": null,
   "metadata": {},
   "outputs": [],
   "source": [
    "# Pivot table\n",
    "\n",
    "df_pivot = df.pivot_table(index=\"nom_mesa\", columns=\"nom_agrupacion\", values=\"votos\", aggfunc=\"sum\")\n",
    "\n",
    "df_pivot"
   ]
  },
  {
   "cell_type": "code",
   "execution_count": null,
   "metadata": {},
   "outputs": [],
   "source": [
    "\n",
    "# Agrego una columna con el total de votos\n",
    "df_pivot[\"total\"] = df_pivot.sum(axis=1)\n"
   ]
  },
  {
   "cell_type": "markdown",
   "metadata": {},
   "source": [
    "Vamos a usar la librería `matplotlib` para hacer un histograma de la cantidad de votos por mesa."
   ]
  },
  {
   "cell_type": "code",
   "execution_count": null,
   "metadata": {},
   "outputs": [],
   "source": [
    "from matplotlib import pyplot as plt\n",
    "\n",
    "plt.hist(df_pivot[\"total\"], bins=40)"
   ]
  },
  {
   "cell_type": "markdown",
   "metadata": {},
   "source": [
    "Hay algunas mesas con muy pocos votos. Saquémoslas del análisis."
   ]
  },
  {
   "cell_type": "code",
   "execution_count": null,
   "metadata": {},
   "outputs": [],
   "source": [
    "df_pivot[\"total\"] > 100"
   ]
  },
  {
   "cell_type": "code",
   "execution_count": null,
   "metadata": {},
   "outputs": [],
   "source": [
    "# Saquemos las que tienen menos de 100 votos\n",
    "\n",
    "df_pivot = df_pivot[df_pivot[\"total\"] > 100]"
   ]
  },
  {
   "cell_type": "code",
   "execution_count": null,
   "metadata": {},
   "outputs": [],
   "source": [
    "\n",
    "renames = {\n",
    "    \"LA LIBERTAD AVANZA\": \"LLA\",\n",
    "    \"FRENTE DE IZQUIERDA Y DE TRABAJADORES - UNIDAD\": \"FIT\",\n",
    "    \"UNION POR LA PATRIA\": \"UxP\",\n",
    "    \"JUNTOS POR EL CAMBIO\": \"JUNTOS\",\n",
    "    \"PRINCIPIOS Y VALORES\": \"PYV\",\n",
    "    \"FRENTE LIBER.AR\": \"LIBER.AR\",\n",
    "    \"HACEMOS POR NUESTRO PAIS\": \"HACEMOS\",\n",
    "    \"MOVIMIENTO IZQUIERDA JUVENTUD Y DIGNIDAD\": \"MIJD\",\n",
    "    \"UNION DEL CENTRO DEMOCRATICO\": \"UCD\",\n",
    "    \"FRENTE PATRIOTA FEDERAL\": \"BIONDINI\",\n",
    "}\n",
    "\n",
    "# Saco los NaN\n",
    "\n",
    "df_pivot = df_pivot.dropna()\n",
    "df_pivot = df_pivot[(df_pivot.T != 0).any()]\n",
    "\n",
    "\n",
    "# Calculo porcentajes\n",
    "df_non_normalized = df_pivot.copy()\n",
    "\n",
    "df_pivot = df_pivot.div(df_pivot.sum(axis=1), axis=0)\n",
    "\n",
    "# Rename columns\n",
    "\n",
    "df_pivot = df_pivot.rename(columns=renames)\n",
    "\n",
    "\n",
    "df_pivot"
   ]
  },
  {
   "cell_type": "code",
   "execution_count": null,
   "metadata": {},
   "outputs": [],
   "source": [
    "# Box plots de los porcentajes\n",
    "\n",
    "df_pivot.boxplot(figsize=(20, 10))"
   ]
  },
  {
   "cell_type": "markdown",
   "metadata": {},
   "source": [
    "\n",
    "Hagamos un mapa de calor de las correlaciones entre los votos a las distintas fuerzas."
   ]
  },
  {
   "cell_type": "code",
   "execution_count": null,
   "metadata": {},
   "outputs": [],
   "source": [
    "corr = df_pivot.corr()\n",
    "\n",
    "# Plot heatmap\n",
    "\n",
    "import seaborn as sns\n",
    "\n",
    "sns.heatmap(\n",
    "    corr,\n",
    "    xticklabels=corr.columns.values,\n",
    "    yticklabels=corr.columns.values,\n",
    "    cmap=\"viridis\"\n",
    ")"
   ]
  },
  {
   "cell_type": "code",
   "execution_count": null,
   "metadata": {},
   "outputs": [],
   "source": [
    "import statsmodels.api as sm\n",
    "import matplotlib.pyplot as plt\n",
    "import numpy as np\n",
    "\n",
    "# Fit linear model with constant for log log model\n",
    "\n",
    "y = \"LLA\"\n",
    "x = \"UxP\"\n",
    "\n",
    "\n",
    "df_reg = df_pivot[[x, y]].copy()\n",
    "\n",
    "df_reg = df_reg[(df_reg[y] > 0.05) & (df_reg[x] > 0.05)]\n",
    "\n",
    "X = sm.add_constant(df_reg[x])\n",
    "model = sm.OLS(df_reg[y], X).fit()\n",
    "\n",
    "print(model.summary())\n",
    "\n",
    "plt.scatter(df_reg[x], df_reg[y])\n",
    "\n",
    "plt.plot(X, model.predict(X), color='red', linewidth=3)\n",
    "\n",
    "plt.xlim(0, df_reg[x].max() + 0.1)\n",
    "plt.xlabel(x)\n",
    "plt.ylabel(y)"
   ]
  },
  {
   "cell_type": "code",
   "execution_count": null,
   "metadata": {},
   "outputs": [],
   "source": [
    "import statsmodels.api as sm\n",
    "import matplotlib.pyplot as plt\n",
    "import numpy as np\n",
    "\n",
    "# Fit linear model with constant for log log model\n",
    "\n",
    "y = \"LLA\"\n",
    "x = \"JUNTOS\"\n",
    "\n",
    "\n",
    "df_reg = df_pivot[[x, y]].copy()\n",
    "\n",
    "df_reg = df_reg[(df_reg[y] > 0.05)]# & (df_reg[x] > 0.05)]\n",
    "\n",
    "X = sm.add_constant(df_reg[x])\n",
    "model = sm.OLS(df_reg[y], X).fit()\n",
    "\n",
    "print(model.summary())\n",
    "\n",
    "plt.scatter(df_reg[x], df_reg[y])\n",
    "\n",
    "plt.plot(X, model.predict(X), color='red', linewidth=3)\n",
    "\n",
    "plt.xlim(0, df_reg[x].max() + 0.1)\n",
    "plt.xlabel(x)\n",
    "plt.ylabel(y)"
   ]
  },
  {
   "cell_type": "markdown",
   "metadata": {},
   "source": [
    "## Resultados 2021"
   ]
  },
  {
   "cell_type": "code",
   "execution_count": null,
   "metadata": {},
   "outputs": [],
   "source": [
    "df_2021 = pd.read_csv(\"../data/pba.csv\")\n",
    "\n",
    "df_2021.info()"
   ]
  },
  {
   "cell_type": "code",
   "execution_count": null,
   "metadata": {},
   "outputs": [],
   "source": [
    "df_2021_la_matanza = df_2021[df_2021[\"seccion_nombre\"] == \"La Matanza\"]\n",
    "\n",
    "df_2021_la_matanza"
   ]
  },
  {
   "cell_type": "code",
   "execution_count": null,
   "metadata": {},
   "outputs": [],
   "source": [
    "df_2021_la_matanza[\"mesa_id\"]"
   ]
  },
  {
   "cell_type": "code",
   "execution_count": null,
   "metadata": {},
   "outputs": [],
   "source": [
    "df[[\"cod_mesa\", \"nom_mesa\"]]"
   ]
  },
  {
   "cell_type": "code",
   "execution_count": null,
   "metadata": {},
   "outputs": [],
   "source": [
    "df[\"mesa_id\"] = df[\"cod_mesa\"].apply(lambda x: int(x[:-1]))"
   ]
  },
  {
   "cell_type": "code",
   "execution_count": null,
   "metadata": {},
   "outputs": [],
   "source": [
    "df_la_matanza = df[df[\"nom_seccion\"] == \"La Matanza\"]"
   ]
  },
  {
   "cell_type": "code",
   "execution_count": null,
   "metadata": {},
   "outputs": [],
   "source": [
    "df_2021_la_matanza[\"mesa_id\"].unique()"
   ]
  },
  {
   "cell_type": "code",
   "execution_count": null,
   "metadata": {},
   "outputs": [],
   "source": [
    "df_la_matanza[\"mesa_id\"].unique()"
   ]
  },
  {
   "cell_type": "markdown",
   "metadata": {},
   "source": [
    "## Ejercicios:\n",
    "\n",
    "1. Analizar qué pasó con el voto en blanco\n",
    "2. Buscar qué pasó en mesas donde alguna fuerza sacó 0 votos\n",
    "3. Intentar reproducir votos 2021 vs votos 2023 (no garantizo que sea posible)\n",
    "4. Lo que les interese más :-)\n"
   ]
  },
  {
   "cell_type": "markdown",
   "metadata": {},
   "source": []
  }
 ],
 "metadata": {
  "kernelspec": {
   "display_name": ".venv",
   "language": "python",
   "name": "python3"
  },
  "language_info": {
   "codemirror_mode": {
    "name": "ipython",
    "version": 3
   },
   "file_extension": ".py",
   "mimetype": "text/x-python",
   "name": "python",
   "nbconvert_exporter": "python",
   "pygments_lexer": "ipython3",
   "version": "3.10.7"
  },
  "orig_nbformat": 4
 },
 "nbformat": 4,
 "nbformat_minor": 2
}
